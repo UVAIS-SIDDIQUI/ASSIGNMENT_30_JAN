{
 "cells": [
  {
   "cell_type": "code",
   "execution_count": null,
   "id": "3cdabe11-6f72-4fbc-901a-468560bb63d4",
   "metadata": {},
   "outputs": [],
   "source": [
    "# write a program to accept precentage from the user and display the grade according to the following criteria:"
   ]
  },
  {
   "cell_type": "code",
   "execution_count": 2,
   "id": "db1fb368-963e-499e-90bb-d5f9f7dd72ab",
   "metadata": {},
   "outputs": [
    {
     "name": "stdin",
     "output_type": "stream",
     "text": [
      "enter your marks  85\n"
     ]
    },
    {
     "name": "stdout",
     "output_type": "stream",
     "text": [
      "GRADE = B\n"
     ]
    }
   ],
   "source": [
    "marks = int(input(\"enter your marks \"))\n",
    "if marks >= 90:\n",
    "    print(\"GRADE = A\")\n",
    "elif marks > 80 and marks<= 90:\n",
    "    print(\"GRADE = B\")\n",
    "elif marks >= 60 and marks <=80 :\n",
    "    print(\"GRADE = C \")\n",
    "else :\n",
    "    print(\"GRADE = D\")"
   ]
  },
  {
   "cell_type": "code",
   "execution_count": 3,
   "id": "0798b0ea-1d37-4576-a7c9-d7115a331481",
   "metadata": {},
   "outputs": [],
   "source": [
    "# write a programe to accept the cost price of a bike and display the road tax to be paid according to the following criteria?"
   ]
  },
  {
   "cell_type": "code",
   "execution_count": 4,
   "id": "d06f30ce-3a62-4a07-aab1-b4d3bf3dafb9",
   "metadata": {},
   "outputs": [
    {
     "name": "stdin",
     "output_type": "stream",
     "text": [
      "enter  price of a bike 50000\n"
     ]
    },
    {
     "name": "stdout",
     "output_type": "stream",
     "text": [
      "road tax to be paid 5%\n"
     ]
    }
   ],
   "source": [
    " price = int(input(\"enter  price of a bike\" ))\n",
    "if price > 100000:\n",
    "    print(\"road tax to be paid 15%\")\n",
    "elif price >50000 and price<=100000:\n",
    "    print(\"road tax to be paid 10%\")\n",
    "elif price <= 50000 : \n",
    "    print(\"road tax to be paid 5%\")\n",
    "else :\n",
    "    print(\"not interested \")"
   ]
  },
  {
   "cell_type": "code",
   "execution_count": 5,
   "id": "01f89d29-4fa0-4245-9953-1bed3f2c6baf",
   "metadata": {},
   "outputs": [],
   "source": [
    "# accept any city from the user and display monuments of that city?"
   ]
  },
  {
   "cell_type": "code",
   "execution_count": 6,
   "id": "c011a512-829d-49db-91ce-aa20fe57b381",
   "metadata": {},
   "outputs": [
    {
     "name": "stdin",
     "output_type": "stream",
     "text": [
      "ENTER THE CITY NAME with (first letter capital)  FOR MANUMENT Jaipur\n"
     ]
    },
    {
     "name": "stdout",
     "output_type": "stream",
     "text": [
      "Jal Mahal\n"
     ]
    }
   ],
   "source": [
    "city = (input(\"ENTER THE CITY NAME with (first letter capital)  FOR MANUMENT\" ))\n",
    "if city==\"Delhi\":\n",
    "    print(\"RED FORT\")\n",
    "if city==\"Agra\" :\n",
    "    print(\"Taj Mahal\")\n",
    "if city==\"Jaipur\":\n",
    "    print(\"Jal Mahal\")\n",
    "else :\n",
    "    print(\"invalid manument\")"
   ]
  },
  {
   "cell_type": "code",
   "execution_count": 7,
   "id": "f9d5cb10-5e16-46b6-b910-18f60a757a73",
   "metadata": {},
   "outputs": [],
   "source": [
    "# check how many times a  given number can be devided by 3 before it is less than or eqal to 10. "
   ]
  },
  {
   "cell_type": "code",
   "execution_count": 9,
   "id": "1e039c18-74cc-40de-9195-5ea428d7420c",
   "metadata": {},
   "outputs": [
    {
     "name": "stdout",
     "output_type": "stream",
     "text": [
      "total iteration required 2\n"
     ]
    }
   ],
   "source": [
    "counter=0\n",
    "number =80\n",
    "while number >=10:\n",
    "    number=number/3\n",
    "    counter=counter+1\n",
    "print(\"total iteration required\", counter)"
   ]
  },
  {
   "cell_type": "code",
   "execution_count": null,
   "id": "1fdf1e2a-7ccf-48d7-a450-dc8b0b254ce0",
   "metadata": {},
   "outputs": [],
   "source": [
    "#  why and when to use while loop in python give detailed discription with example"
   ]
  },
  {
   "cell_type": "markdown",
   "id": "cc98ab5d-2db6-4847-adf3-cca653ef70e4",
   "metadata": {},
   "source": [
    "With the while loop we can execute a set of statements as long as a condition is true.\n",
    "\n",
    "1.A while loop evaluates the condition\n",
    "2.If the condition evaluates to True, the code inside the while loop is executed.\n",
    "3.condition is evaluated again.\n",
    "4.This process continues until the condition is False.\n",
    "5.When condition evaluates to False, the loop stops."
   ]
  },
  {
   "cell_type": "markdown",
   "id": "e021f619-7a58-4218-a697-fb9e7d4d80ba",
   "metadata": {},
   "source": [
    "examples:-With the while loop we can execute a set of statements as long as a condition is true"
   ]
  },
  {
   "cell_type": "code",
   "execution_count": 78,
   "id": "3111e5b4-4354-438a-8f45-d48fbe4a99bd",
   "metadata": {},
   "outputs": [
    {
     "name": "stdout",
     "output_type": "stream",
     "text": [
      "1\n",
      "2\n",
      "3\n",
      "4\n",
      "5\n"
     ]
    }
   ],
   "source": [
    "i = 1\n",
    "while i < 6:\n",
    "    print(i)\n",
    "    i += 1"
   ]
  },
  {
   "cell_type": "markdown",
   "id": "303b1cd2-9d5b-4f43-a467-30ec0b99a7d9",
   "metadata": {},
   "source": [
    "example:-With the break statement we can stop the loop even if the while condition is true"
   ]
  },
  {
   "cell_type": "code",
   "execution_count": 38,
   "id": "a9a91ff8-3ac2-48d8-90a2-8679c20793e3",
   "metadata": {},
   "outputs": [
    {
     "name": "stdout",
     "output_type": "stream",
     "text": [
      "1\n",
      "2\n",
      "3\n"
     ]
    }
   ],
   "source": [
    "i = 1\n",
    "while i < 6:\n",
    "    print(i)\n",
    "    if i == 3:\n",
    "        break\n",
    "        \n",
    "    i += 1"
   ]
  },
  {
   "cell_type": "markdown",
   "id": "b7e68e1f-30d3-4bd4-a41b-cd8e07bdffe0",
   "metadata": {},
   "source": [
    "example:-With the continue statement we can stop the current iteration, and continue with the next"
   ]
  },
  {
   "cell_type": "code",
   "execution_count": 81,
   "id": "84253dba-a4d4-4459-861c-84f5d4677655",
   "metadata": {},
   "outputs": [
    {
     "name": "stdout",
     "output_type": "stream",
     "text": [
      "1\n",
      "2\n",
      "4\n",
      "5\n",
      "6\n"
     ]
    }
   ],
   "source": [
    "i = 0\n",
    "while i < 6:\n",
    "    i += 1\n",
    "    if i == 3:\n",
    "        continue\n",
    "    print(i)"
   ]
  },
  {
   "cell_type": "markdown",
   "id": "5212a425-2fae-4470-bad4-cc22bf5ea772",
   "metadata": {},
   "source": [
    "example:-With the else statement we can run a block of code once when the condition no longer is true"
   ]
  },
  {
   "cell_type": "code",
   "execution_count": 82,
   "id": "158a4f90-5a97-433c-ad7c-b602b9dfdef0",
   "metadata": {},
   "outputs": [
    {
     "name": "stdout",
     "output_type": "stream",
     "text": [
      "1\n",
      "2\n",
      "3\n",
      "4\n",
      "5\n",
      "i is no longer less than 6\n"
     ]
    }
   ],
   "source": [
    "i = 1\n",
    "while i < 6:\n",
    "    print(i)\n",
    "    i += 1\n",
    "else:\n",
    "    print(\"i is no longer less than 6\")"
   ]
  },
  {
   "cell_type": "code",
   "execution_count": 83,
   "id": "0f3ce00f-5436-47d4-b4cd-ea18b77922f3",
   "metadata": {},
   "outputs": [],
   "source": [
    "#use nested while loop to print 3 different pattern?"
   ]
  },
  {
   "cell_type": "code",
   "execution_count": 2,
   "id": "9e10a1d7-f43d-4d12-88d9-c17485fdcd62",
   "metadata": {},
   "outputs": [
    {
     "name": "stdout",
     "output_type": "stream",
     "text": [
      "1 \n",
      "1 2 \n",
      "1 2 3 \n",
      "1 2 3 4 \n",
      "1 2 3 4 5 \n"
     ]
    }
   ],
   "source": [
    "i=1\n",
    "while i<=5:\n",
    "    j=1\n",
    "    while j<=i:\n",
    "        print(j,end=\" \")\n",
    "        j=j+1\n",
    "    print(\"\")\n",
    "    i=i+1"
   ]
  },
  {
   "cell_type": "code",
   "execution_count": 4,
   "id": "defb53fa-2a61-4d60-afda-21472cb9832b",
   "metadata": {},
   "outputs": [
    {
     "name": "stdout",
     "output_type": "stream",
     "text": [
      "* \n",
      "* * \n",
      "* * * \n",
      "* * * * \n",
      "* * * * * \n",
      "* * * * * * \n",
      "* * * * * * * \n",
      "* * * * * * * * \n",
      "* * * * * * * * * \n",
      "* * * * * * * * * * \n"
     ]
    }
   ],
   "source": [
    "i = 1\n",
    "# outer loop\n",
    "while i <=10:\n",
    "    j=1\n",
    "    while j <=i :\n",
    "        print(\"*\", end=\" \")\n",
    "        j=j+1\n",
    "    print('')\n",
    "    i=i + 1"
   ]
  },
  {
   "cell_type": "code",
   "execution_count": 9,
   "id": "b2ab38c5-bd6d-40b9-8d49-4ff7d7de0792",
   "metadata": {},
   "outputs": [
    {
     "name": "stdin",
     "output_type": "stream",
     "text": [
      "Enter number of rows :  10\n"
     ]
    },
    {
     "name": "stdout",
     "output_type": "stream",
     "text": [
      "* * * * * * * * * * \n",
      "* * * * * * * * * \n",
      "* * * * * * * * \n",
      "* * * * * * * \n",
      "* * * * * * \n",
      "* * * * * \n",
      "* * * * \n",
      "* * * \n",
      "* * \n",
      "* \n"
     ]
    }
   ],
   "source": [
    "n = int(input('Enter number of rows : '))\n",
    " \n",
    "i = 1\n",
    "while i <= n :\n",
    "    j = n\n",
    "    while j >= i:\n",
    "        print(\"*\", end = \" \")\n",
    "        j -= 1\n",
    "    print()\n",
    "    i += 1"
   ]
  },
  {
   "cell_type": "code",
   "execution_count": null,
   "id": "56c6269c-736f-4be4-ba94-f25794dddea7",
   "metadata": {},
   "outputs": [],
   "source": [
    "#reverse a while loop to display numbers from 10 to 1"
   ]
  },
  {
   "cell_type": "code",
   "execution_count": 27,
   "id": "ab3ffffa-3437-4eef-bb05-b30fb960e55a",
   "metadata": {},
   "outputs": [
    {
     "name": "stdin",
     "output_type": "stream",
     "text": [
      "enter your number for reversal 10\n"
     ]
    },
    {
     "name": "stdout",
     "output_type": "stream",
     "text": [
      "10\n",
      "9\n",
      "8\n",
      "7\n",
      "6\n",
      "5\n",
      "4\n",
      "3\n",
      "2\n",
      "1\n"
     ]
    }
   ],
   "source": [
    "i= int(input(\"enter your number for reversal\"))\n",
    "while i > 0:\n",
    "    print(i)\n",
    "    i = i - 1"
   ]
  },
  {
   "cell_type": "code",
   "execution_count": 28,
   "id": "42c2de2c-cadb-458a-9ef0-30190cae8ab9",
   "metadata": {},
   "outputs": [],
   "source": [
    "#reverse a while loop to display numbers from 10 to 1"
   ]
  },
  {
   "cell_type": "code",
   "execution_count": 29,
   "id": "d08f1fe4-ee2d-422c-bef8-cddc581389b5",
   "metadata": {},
   "outputs": [
    {
     "name": "stdout",
     "output_type": "stream",
     "text": [
      "10\n",
      "9\n",
      "8\n",
      "7\n",
      "6\n",
      "5\n",
      "4\n",
      "3\n",
      "2\n",
      "1\n"
     ]
    }
   ],
   "source": [
    "i=10\n",
    "while i > 0:\n",
    "    print(i)\n",
    "    i = i - 1"
   ]
  },
  {
   "cell_type": "code",
   "execution_count": null,
   "id": "a58bb9d8-0381-44df-9f68-42aa5746d88e",
   "metadata": {},
   "outputs": [],
   "source": []
  }
 ],
 "metadata": {
  "kernelspec": {
   "display_name": "Python 3 (ipykernel)",
   "language": "python",
   "name": "python3"
  },
  "language_info": {
   "codemirror_mode": {
    "name": "ipython",
    "version": 3
   },
   "file_extension": ".py",
   "mimetype": "text/x-python",
   "name": "python",
   "nbconvert_exporter": "python",
   "pygments_lexer": "ipython3",
   "version": "3.10.8"
  }
 },
 "nbformat": 4,
 "nbformat_minor": 5
}
